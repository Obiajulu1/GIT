{
 "cells": [
  {
   "cell_type": "markdown",
   "id": "0c030b65",
   "metadata": {},
   "source": [
    "# Libraries"
   ]
  },
  {
   "cell_type": "code",
   "execution_count": 1,
   "id": "58cecde6",
   "metadata": {},
   "outputs": [],
   "source": [
    "# Import libraries\n",
    "from bs4 import BeautifulSoup\n",
    "import requests\n",
    "import smtplib\n",
    "import time\n",
    "import datetime\n",
    "import pandas as pd\n",
    "import numpy as np\n",
    "import matplotlib.pyplot as plt"
   ]
  },
  {
   "cell_type": "markdown",
   "id": "160257ad",
   "metadata": {},
   "source": [
    "# Web Scrape and Load"
   ]
  },
  {
   "cell_type": "code",
   "execution_count": 2,
   "id": "1318c7a7",
   "metadata": {},
   "outputs": [],
   "source": [
    "# Assign Url to a variable\n",
    "cm_url = 'https://coinmarketcap.com/'\n",
    "\n",
    "# Connect to website and download data and assign it to a variable (cm_t)\n",
    "header = {'User-Agent': 'Mozilla/5.0 (Windows NT 10.0; Win64; x64) AppleWebKit/537.36 (KHTML, like Gecko) Chrome/110.0.0.0 Safari/537.36', 'Accept-Encoding':'gzip, deflate', 'Accept':'text/html,application/xhtml+xml,application/xml;q=0.9,*/*;q=0.8', 'DNT':'1','Connection':'close', 'Upgrade-Insecure-Requests':'1'}\n",
    "cm_page = requests.get(cm_url, headers=header)\n",
    "cm_soup1 = BeautifulSoup(cm_page.content, 'html.parser')\n",
    "cm_t = cm_soup1.find('table', {'class':'sc-beb003d5-3 ieTeVa cmc-table'}).find('tbody').find_all('tr')"
   ]
  },
  {
   "cell_type": "code",
   "execution_count": 3,
   "id": "18e15119",
   "metadata": {
    "scrolled": true
   },
   "outputs": [],
   "source": [
    "# Creat empty list variables to contain respective headers/columns\n",
    "name = []\n",
    "price = []\n",
    "market_cap = []\n",
    "volume_24 = []\n",
    "circulating_supply = []\n",
    "\n",
    "# Creat a loop to represent number of rows of data/cryptocurrencies to be collected\n",
    "ind = list(range(10))\n",
    "for i in ind:\n",
    "    #append data to respective containers\n",
    "    name.append(cm_t[i].find('p', {'class':'ePTNty'}).get_text())\n",
    "    price.append(cm_t[i].find('div', {'class':'sc-8bda0120-0 dskdZn'}).get_text())\n",
    "    market_cap.append(cm_t[i].find('span', {'class':'sc-edc9a476-1 gqomIJ'}).get_text())\n",
    "    volume_24.append(cm_t[i].find('p', {'class':'sc-e225a64a-0 gLNGkf font_weight_500'}).get_text())\n",
    "    circulating_supply.append(cm_t[i].find('p', {'class':'sc-e225a64a-0 izpQLd'}).get_text())"
   ]
  },
  {
   "cell_type": "code",
   "execution_count": 4,
   "id": "2c2968bb",
   "metadata": {},
   "outputs": [],
   "source": [
    "# Creat headers for columns\n",
    "    # name = Cryptocurrency name\n",
    "    # Price_($) = current price in USD\n",
    "    # market_cap_($) = Total worth of available cryptocurrency stock in USD\n",
    "    # volume_($) = Total trade volume within 24hrs in USD\n",
    "col = ['name', 'price ($)', 'market_cap ($)', 'volume_24 ($)']\n",
    "\n",
    "#collect respective variables in a list\n",
    "coins = [name, price, market_cap, volume_24]\n",
    "\n",
    "#creat a pandas DataFrame with the name crypto_df\n",
    "crypto_df = pd.DataFrame(coins)"
   ]
  },
  {
   "cell_type": "markdown",
   "id": "c6b18135",
   "metadata": {},
   "source": [
    "# Mung"
   ]
  },
  {
   "cell_type": "code",
   "execution_count": 5,
   "id": "58b55762",
   "metadata": {},
   "outputs": [
    {
     "data": {
      "text/html": [
       "<div>\n",
       "<style scoped>\n",
       "    .dataframe tbody tr th:only-of-type {\n",
       "        vertical-align: middle;\n",
       "    }\n",
       "\n",
       "    .dataframe tbody tr th {\n",
       "        vertical-align: top;\n",
       "    }\n",
       "\n",
       "    .dataframe thead th {\n",
       "        text-align: right;\n",
       "    }\n",
       "</style>\n",
       "<table border=\"1\" class=\"dataframe\">\n",
       "  <thead>\n",
       "    <tr style=\"text-align: right;\">\n",
       "      <th></th>\n",
       "      <th>0</th>\n",
       "      <th>1</th>\n",
       "      <th>2</th>\n",
       "      <th>3</th>\n",
       "      <th>4</th>\n",
       "      <th>5</th>\n",
       "      <th>6</th>\n",
       "      <th>7</th>\n",
       "      <th>8</th>\n",
       "      <th>9</th>\n",
       "    </tr>\n",
       "  </thead>\n",
       "  <tbody>\n",
       "    <tr>\n",
       "      <th>0</th>\n",
       "      <td>Bitcoin</td>\n",
       "      <td>Ethereum</td>\n",
       "      <td>Tether</td>\n",
       "      <td>BNB</td>\n",
       "      <td>USD Coin</td>\n",
       "      <td>XRP</td>\n",
       "      <td>Cardano</td>\n",
       "      <td>Polygon</td>\n",
       "      <td>Dogecoin</td>\n",
       "      <td>Binance USD</td>\n",
       "    </tr>\n",
       "    <tr>\n",
       "      <th>1</th>\n",
       "      <td>$24,023.94</td>\n",
       "      <td>$1,665.82</td>\n",
       "      <td>$1.00</td>\n",
       "      <td>$308.26</td>\n",
       "      <td>$0.9983</td>\n",
       "      <td>$0.3717</td>\n",
       "      <td>$0.3448</td>\n",
       "      <td>$1.17</td>\n",
       "      <td>$0.07236</td>\n",
       "      <td>$0.9999</td>\n",
       "    </tr>\n",
       "    <tr>\n",
       "      <th>2</th>\n",
       "      <td>$464,150,633,247</td>\n",
       "      <td>$203,836,531,892</td>\n",
       "      <td>$72,782,041,427</td>\n",
       "      <td>$48,641,152,263</td>\n",
       "      <td>$40,120,527,738</td>\n",
       "      <td>$18,938,408,344</td>\n",
       "      <td>$11,963,873,520</td>\n",
       "      <td>$10,186,696,478</td>\n",
       "      <td>$9,600,254,017</td>\n",
       "      <td>$8,375,262,593</td>\n",
       "    </tr>\n",
       "    <tr>\n",
       "      <th>3</th>\n",
       "      <td>$55,398,860,578</td>\n",
       "      <td>$18,942,447,805</td>\n",
       "      <td>$83,925,477,530</td>\n",
       "      <td>$1,208,875,847</td>\n",
       "      <td>$11,717,075,950</td>\n",
       "      <td>$1,892,322,364</td>\n",
       "      <td>$747,121,046</td>\n",
       "      <td>$1,097,669,731</td>\n",
       "      <td>$653,414,065</td>\n",
       "      <td>$11,612,596,454</td>\n",
       "    </tr>\n",
       "  </tbody>\n",
       "</table>\n",
       "</div>"
      ],
      "text/plain": [
       "                  0                 1                2                3  \\\n",
       "0           Bitcoin          Ethereum           Tether              BNB   \n",
       "1        $24,023.94         $1,665.82            $1.00          $308.26   \n",
       "2  $464,150,633,247  $203,836,531,892  $72,782,041,427  $48,641,152,263   \n",
       "3   $55,398,860,578   $18,942,447,805  $83,925,477,530   $1,208,875,847   \n",
       "\n",
       "                 4                5                6                7  \\\n",
       "0         USD Coin              XRP          Cardano          Polygon   \n",
       "1          $0.9983          $0.3717          $0.3448            $1.17   \n",
       "2  $40,120,527,738  $18,938,408,344  $11,963,873,520  $10,186,696,478   \n",
       "3  $11,717,075,950   $1,892,322,364     $747,121,046   $1,097,669,731   \n",
       "\n",
       "                8                9  \n",
       "0        Dogecoin      Binance USD  \n",
       "1        $0.07236          $0.9999  \n",
       "2  $9,600,254,017   $8,375,262,593  \n",
       "3    $653,414,065  $11,612,596,454  "
      ]
     },
     "execution_count": 5,
     "metadata": {},
     "output_type": "execute_result"
    }
   ],
   "source": [
    "# Take a look at the dataframe\n",
    "crypto_df.head()"
   ]
  },
  {
   "cell_type": "code",
   "execution_count": 6,
   "id": "8761feb6",
   "metadata": {},
   "outputs": [],
   "source": [
    "# Transpose the table to rearrange index and columns and columns as rows\n",
    "crypto_df = crypto_df.T"
   ]
  },
  {
   "cell_type": "code",
   "execution_count": 7,
   "id": "6538b551",
   "metadata": {},
   "outputs": [],
   "source": [
    "# Add column names\n",
    "crypto_df.columns = col"
   ]
  },
  {
   "cell_type": "code",
   "execution_count": 8,
   "id": "21ed982c",
   "metadata": {
    "scrolled": false
   },
   "outputs": [
    {
     "data": {
      "text/html": [
       "<div>\n",
       "<style scoped>\n",
       "    .dataframe tbody tr th:only-of-type {\n",
       "        vertical-align: middle;\n",
       "    }\n",
       "\n",
       "    .dataframe tbody tr th {\n",
       "        vertical-align: top;\n",
       "    }\n",
       "\n",
       "    .dataframe thead th {\n",
       "        text-align: right;\n",
       "    }\n",
       "</style>\n",
       "<table border=\"1\" class=\"dataframe\">\n",
       "  <thead>\n",
       "    <tr style=\"text-align: right;\">\n",
       "      <th></th>\n",
       "      <th>name</th>\n",
       "      <th>price ($)</th>\n",
       "      <th>market_cap ($)</th>\n",
       "      <th>volume_24 ($)</th>\n",
       "    </tr>\n",
       "  </thead>\n",
       "  <tbody>\n",
       "    <tr>\n",
       "      <th>0</th>\n",
       "      <td>Bitcoin</td>\n",
       "      <td>$24,023.94</td>\n",
       "      <td>$464,150,633,247</td>\n",
       "      <td>$55,398,860,578</td>\n",
       "    </tr>\n",
       "    <tr>\n",
       "      <th>1</th>\n",
       "      <td>Ethereum</td>\n",
       "      <td>$1,665.82</td>\n",
       "      <td>$203,836,531,892</td>\n",
       "      <td>$18,942,447,805</td>\n",
       "    </tr>\n",
       "    <tr>\n",
       "      <th>2</th>\n",
       "      <td>Tether</td>\n",
       "      <td>$1.00</td>\n",
       "      <td>$72,782,041,427</td>\n",
       "      <td>$83,925,477,530</td>\n",
       "    </tr>\n",
       "    <tr>\n",
       "      <th>3</th>\n",
       "      <td>BNB</td>\n",
       "      <td>$308.26</td>\n",
       "      <td>$48,641,152,263</td>\n",
       "      <td>$1,208,875,847</td>\n",
       "    </tr>\n",
       "    <tr>\n",
       "      <th>4</th>\n",
       "      <td>USD Coin</td>\n",
       "      <td>$0.9983</td>\n",
       "      <td>$40,120,527,738</td>\n",
       "      <td>$11,717,075,950</td>\n",
       "    </tr>\n",
       "  </tbody>\n",
       "</table>\n",
       "</div>"
      ],
      "text/plain": [
       "       name   price ($)    market_cap ($)    volume_24 ($)\n",
       "0   Bitcoin  $24,023.94  $464,150,633,247  $55,398,860,578\n",
       "1  Ethereum   $1,665.82  $203,836,531,892  $18,942,447,805\n",
       "2    Tether       $1.00   $72,782,041,427  $83,925,477,530\n",
       "3       BNB     $308.26   $48,641,152,263   $1,208,875,847\n",
       "4  USD Coin     $0.9983   $40,120,527,738  $11,717,075,950"
      ]
     },
     "execution_count": 8,
     "metadata": {},
     "output_type": "execute_result"
    }
   ],
   "source": [
    "# Highlight the data again\n",
    "crypto_df.head()"
   ]
  },
  {
   "cell_type": "code",
   "execution_count": 9,
   "id": "18e0a04c",
   "metadata": {},
   "outputs": [
    {
     "data": {
      "text/plain": [
       "name              object\n",
       "price ($)         object\n",
       "market_cap ($)    object\n",
       "volume_24 ($)     object\n",
       "dtype: object"
      ]
     },
     "execution_count": 9,
     "metadata": {},
     "output_type": "execute_result"
    }
   ],
   "source": [
    "# Check data types\n",
    "crypto_df.dtypes"
   ]
  },
  {
   "cell_type": "code",
   "execution_count": 10,
   "id": "eed2e985",
   "metadata": {},
   "outputs": [],
   "source": [
    "# Use list comprehenssion to remove the $ from the figures \n",
    "crypto_df['price ($)'] = [i[1:] for i in crypto_df['price ($)']]\n",
    "crypto_df['market_cap ($)'] = [i[1:] for i in crypto_df['market_cap ($)']]\n",
    "crypto_df['volume_24 ($)'] = [i[1:] for i in crypto_df['volume_24 ($)']]"
   ]
  },
  {
   "cell_type": "code",
   "execution_count": 11,
   "id": "636df917",
   "metadata": {
    "scrolled": true
   },
   "outputs": [],
   "source": [
    "#Remove commar (,)\n",
    "crypto_df['price ($)'] = [i.replace(',', '') for i in crypto_df['price ($)']]\n",
    "crypto_df['market_cap ($)'] = [i.replace(',', '') for i in crypto_df['market_cap ($)']]\n",
    "crypto_df['volume_24 ($)'] = [i.replace(',', '') for i in crypto_df['volume_24 ($)']]"
   ]
  },
  {
   "cell_type": "code",
   "execution_count": 12,
   "id": "d0a1029f",
   "metadata": {
    "scrolled": true
   },
   "outputs": [],
   "source": [
    "# Change variable types to floats\n",
    "crypto_df['price ($)'] = crypto_df['price ($)'].astype(float)\n",
    "crypto_df['market_cap ($)'] = crypto_df['market_cap ($)'].astype(float)\n",
    "crypto_df['volume_24 ($)'] = crypto_df['volume_24 ($)'].astype(float)"
   ]
  },
  {
   "cell_type": "code",
   "execution_count": 13,
   "id": "0bfbe8fe",
   "metadata": {},
   "outputs": [
    {
     "name": "stdout",
     "output_type": "stream",
     "text": [
      "       name   price ($)  market_cap ($)  volume_24 ($)\n",
      "0   Bitcoin  24023.9400    4.641506e+11   5.539886e+10\n",
      "1  Ethereum   1665.8200    2.038365e+11   1.894245e+10\n",
      "2    Tether      1.0000    7.278204e+10   8.392548e+10\n",
      "3       BNB    308.2600    4.864115e+10   1.208876e+09\n",
      "4  USD Coin      0.9983    4.012053e+10   1.171708e+10\n",
      "\n",
      "\n",
      "name               object\n",
      "price ($)         float64\n",
      "market_cap ($)    float64\n",
      "volume_24 ($)     float64\n",
      "dtype: object\n"
     ]
    }
   ],
   "source": [
    "# Highlight the data and check datatypes to confirm cleanup \n",
    "print(crypto_df.head())\n",
    "print('')\n",
    "print('')\n",
    "print(crypto_df.dtypes)"
   ]
  },
  {
   "cell_type": "markdown",
   "id": "ae06ad65",
   "metadata": {},
   "source": [
    "# Visualise"
   ]
  },
  {
   "cell_type": "code",
   "execution_count": 14,
   "id": "7716ad4b",
   "metadata": {},
   "outputs": [
    {
     "data": {
      "image/png": "[encoded data removed]",
      "text/plain": [
       "<Figure size 570x1000 with 3 Axes>"
      ]
     },
     "metadata": {},
     "output_type": "display_data"
    }
   ],
   "source": [
    "# Creat figure and respective axes\n",
    "fig1, axes = plt.subplots(3, 1, figsize=(5.7,10), sharex=True)\n",
    "\n",
    "#Creat plots\n",
    "axes[0].bar(crypto_df['name'], crypto_df['price ($)'], data=crypto_df, color=('violet', 'aqua', 'b', 'w', 'r', 'g', 'm', 'c', 'k', 'navy'))\n",
    "axes[1].bar(crypto_df['name'], crypto_df['market_cap ($)'], data=crypto_df, color=('violet', 'aqua', 'b', 'w', 'r', 'g', 'm', 'c', 'k', 'navy'))\n",
    "axes[2].bar(crypto_df['name'], crypto_df['volume_24 ($)'], data=crypto_df, color=('violet', 'aqua', 'b', 'w', 'r', 'g', 'm', 'c', 'k', 'navy'))\n",
    "\n",
    "# Add features and labels\n",
    "plt.xticks(rotation = 90)\n",
    "plt.xlabel('Crytocurrencies')\n",
    "axes[0].set_ylabel('Price')\n",
    "axes[1].set_ylabel('Total Market Value')\n",
    "axes[2].set_ylabel('Traded Volume')\n",
    "axes[0].set_title('cryptocurrencies indices')\n",
    "\n",
    "plt.show()"
   ]
  },
  {
   "cell_type": "code",
   "execution_count": 15,
   "id": "2cb7faa9",
   "metadata": {},
   "outputs": [
    {
     "data": {
      "text/plain": [
       "(0.0, 5.0)"
      ]
     },
     "execution_count": 15,
     "metadata": {},
     "output_type": "execute_result"
    },
    {
     "data": {
      "image/png": "[encoded data removed]",
      "text/plain": [
       "<Figure size 570x1000 with 1 Axes>"
      ]
     },
     "metadata": {},
     "output_type": "display_data"
    }
   ],
   "source": [
    "# creat another plot to highlight some prices\n",
    "fig1, axes = plt.subplots(figsize=(5.7,10))\n",
    "\n",
    "#Creat plots\n",
    "axes.bar(crypto_df['name'], crypto_df['price ($)'], color=('w', 'w', 'b', 'w', 'r', 'g', 'm', 'c', 'olivedrab', 'w'))\n",
    "plt.xticks(rotation = 90)\n",
    "plt.xlabel('Crytocurrencies')\n",
    "plt.ylabel('Prices')\n",
    "plt.title('cryptocurrencies indices')\n",
    "plt.ylim(0, 5)"
   ]
  }
 ],
 "metadata": {
  "kernelspec": {
   "display_name": "Python 3 (ipykernel)",
   "language": "python",
   "name": "python3"
  },
  "language_info": {
   "codemirror_mode": {
    "name": "ipython",
    "version": 3
   },
   "file_extension": ".py",
   "mimetype": "text/x-python",
   "name": "python",
   "nbconvert_exporter": "python",
   "pygments_lexer": "ipython3",
   "version": "3.9.13"
  }
 },
 "nbformat": 4,
 "nbformat_minor": 5
}
